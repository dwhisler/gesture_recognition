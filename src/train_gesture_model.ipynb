{
 "cells": [
  {
   "cell_type": "code",
   "execution_count": 1,
   "metadata": {},
   "outputs": [
    {
     "ename": "ModuleNotFoundError",
     "evalue": "No module named 'tensorflow'",
     "output_type": "error",
     "traceback": [
      "\u001b[0;31m---------------------------------------------------------------------------\u001b[0m",
      "\u001b[0;31mModuleNotFoundError\u001b[0m                       Traceback (most recent call last)",
      "\u001b[0;32m<ipython-input-1-a3b76acf99e9>\u001b[0m in \u001b[0;36m<module>\u001b[0;34m()\u001b[0m\n\u001b[0;32m----> 1\u001b[0;31m \u001b[0;32mimport\u001b[0m \u001b[0mtensorflow\u001b[0m \u001b[0;32mas\u001b[0m \u001b[0mtf\u001b[0m\u001b[0;34m\u001b[0m\u001b[0;34m\u001b[0m\u001b[0m\n\u001b[0m\u001b[1;32m      2\u001b[0m \u001b[0;32mimport\u001b[0m \u001b[0mnumpy\u001b[0m \u001b[0;32mas\u001b[0m \u001b[0mnp\u001b[0m\u001b[0;34m\u001b[0m\u001b[0;34m\u001b[0m\u001b[0m\n\u001b[1;32m      3\u001b[0m \u001b[0;32mimport\u001b[0m \u001b[0mmatplotlib\u001b[0m\u001b[0;34m.\u001b[0m\u001b[0mpyplot\u001b[0m \u001b[0;32mas\u001b[0m \u001b[0mplt\u001b[0m\u001b[0;34m\u001b[0m\u001b[0;34m\u001b[0m\u001b[0m\n\u001b[1;32m      4\u001b[0m \u001b[0;32mfrom\u001b[0m \u001b[0msklearn\u001b[0m\u001b[0;34m.\u001b[0m\u001b[0mmodel_selection\u001b[0m \u001b[0;32mimport\u001b[0m \u001b[0mtrain_test_split\u001b[0m\u001b[0;34m\u001b[0m\u001b[0;34m\u001b[0m\u001b[0m\n",
      "\u001b[0;31mModuleNotFoundError\u001b[0m: No module named 'tensorflow'"
     ]
    }
   ],
   "source": [
    "import tensorflow as tf\n",
    "import numpy as np\n",
    "import matplotlib.pyplot as plt\n",
    "from sklearn.model_selection import train_test_split"
   ]
  },
  {
   "cell_type": "code",
   "execution_count": null,
   "metadata": {},
   "outputs": [],
   "source": [
    "# Load TensorBoard\n",
    "%load_ext tensorboard\n",
    "%tensorboard --logdir logs/scalars"
   ]
  },
  {
   "cell_type": "code",
   "execution_count": null,
   "metadata": {},
   "outputs": [],
   "source": [
    "gesture_map = {'none':0, 'click':1, 'doubleclick':2, 'rightcircle':3, 'leftcircle':4}\n",
    "path = '../data/session2/'\n",
    "users = ['david']\n",
    "gestures = ['none', 'click', 'doubleclick', 'rightcircle', 'leftcircle']\n",
    "num_takes = 10\n",
    "num_classes = len(gestures)"
   ]
  },
  {
   "cell_type": "code",
   "execution_count": null,
   "metadata": {},
   "outputs": [],
   "source": [
    "# Find minimum common sequence length\n",
    "min_count = 1000\n",
    "for u in users:\n",
    "    for g in gestures:\n",
    "        for n in range(1, num_takes+1):\n",
    "            fname = path + u + '_' + g + '_' + str(n) + '.csv'\n",
    "            with open(fname, 'r') as f:\n",
    "                header = f.readline()\n",
    "                count = 0\n",
    "                for data_point in f:\n",
    "                    count += 1\n",
    "                if count < min_count:\n",
    "                    min_count = count\n",
    "seq_length = min_count"
   ]
  },
  {
   "cell_type": "code",
   "execution_count": null,
   "metadata": {},
   "outputs": [],
   "source": [
    "# Load in data\n",
    "data_dict = {}\n",
    "for u in users:\n",
    "    user_batch = []\n",
    "    user_labels = []\n",
    "    for g in gestures:\n",
    "        for nt in range(1, num_takes+1):\n",
    "            fname = path + u + '_' + g + '_' + str(nt) + '.csv'\n",
    "            with open(fname, 'r') as f:\n",
    "                header = f.readline()\n",
    "                data = []\n",
    "                for ns in range(seq_length):\n",
    "                    new_data = np.array([float(x) for x in f.readline().split(',')[:-1]])\n",
    "                    sample_rate = new_data[-1]\n",
    "                    data.append(new_data[:-1])\n",
    "\n",
    "                data = np.stack(data, axis=0)\n",
    "\n",
    "            user_batch.append(data)\n",
    "            user_labels.append(gesture_map[g])\n",
    "\n",
    "    user_labels = np.array(user_labels)\n",
    "    user_batch = np.stack(user_batch, axis=0)\n",
    "    data_dict[u] = (user_batch, user_labels)"
   ]
  },
  {
   "cell_type": "code",
   "execution_count": null,
   "metadata": {},
   "outputs": [],
   "source": [
    "# Extract data\n",
    "(X, y) = data_dict['david']\n",
    "X = X[:, :, :, np.newaxis] # add channels axis (1)\n",
    "\n",
    "#X = X[:, :, 0:5:2] # acceleration data only\n",
    "X = X[:, :, -4:] # quaternion data only\n",
    "#X = X[:, :, :6] # acceleration & gyro data only\n",
    "data_axes = X.shape[2]\n",
    "X_train, X_test, y_train, y_test = train_test_split(X, y, test_size=0.2, random_state=5)"
   ]
  },
  {
   "cell_type": "code",
   "execution_count": null,
   "metadata": {},
   "outputs": [],
   "source": [
    "# Build model\n",
    "model = tf.keras.models.Sequential()\n",
    "model.add(tf.keras.layers.Conv2D(8, (4, data_axes), padding='same', activation='relu', input_shape=(seq_length, data_axes, 1)))\n",
    "model.add(tf.keras.layers.MaxPool2D((3, data_axes)))\n",
    "model.add(tf.keras.layers.BatchNormalization())\n",
    "model.add(tf.keras.layers.Dropout(0.1))\n",
    "model.add(tf.keras.layers.Conv2D(16, (4, 1), padding='same', activation='relu'))\n",
    "model.add(tf.keras.layers.BatchNormalization())\n",
    "model.add(tf.keras.layers.Dropout(0.1))\n",
    "model.add(tf.keras.layers.Flatten())\n",
    "model.add(tf.keras.layers.Dense(16, activation='relu'))\n",
    "model.add(tf.keras.layers.BatchNormalization())\n",
    "model.add(tf.keras.layers.Dropout(0.1))\n",
    "model.add(tf.keras.layers.Dense(num_classes))\n",
    "model.summary()"
   ]
  },
  {
   "cell_type": "code",
   "execution_count": null,
   "metadata": {},
   "outputs": [],
   "source": [
    "# Train model\n",
    "epochs = 100\n",
    "batch_size = 8\n",
    "learning_rate = 1e-3\n",
    "loss = 'sparse_categorical_crossentropy'\n",
    "metrics=[tf.keras.metrics.sparse_categorical_accuracy]\n",
    "optimizer = tf.keras.optimizers.Adam(learning_rate=learning_rate)\n",
    "\n",
    "model.compile(optimizer=optimizer, loss=loss, metrics=metrics)\n",
    "\n",
    "model.fit(X_train, y_train, batch_size=batch_size, epochs=epochs, validation_data=(X_test, y_test))\n",
    "model.evaluate(X_test, y_test)"
   ]
  }
 ],
 "metadata": {
  "kernelspec": {
   "display_name": "Python 3",
   "language": "python",
   "name": "python3"
  },
  "language_info": {
   "codemirror_mode": {
    "name": "ipython",
    "version": 3
   },
   "file_extension": ".py",
   "mimetype": "text/x-python",
   "name": "python",
   "nbconvert_exporter": "python",
   "pygments_lexer": "ipython3",
   "version": "3.6.9"
  }
 },
 "nbformat": 4,
 "nbformat_minor": 2
}
